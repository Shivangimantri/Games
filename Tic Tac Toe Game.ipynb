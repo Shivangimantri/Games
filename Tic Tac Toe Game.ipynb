{
 "cells": [
  {
   "cell_type": "markdown",
   "metadata": {},
   "source": [
    "# Let's build our game!"
   ]
  },
  {
   "cell_type": "markdown",
   "metadata": {},
   "source": [
    "Setting up the board"
   ]
  },
  {
   "cell_type": "code",
   "execution_count": 2,
   "metadata": {},
   "outputs": [],
   "source": [
    "from IPython.display import clear_output\n",
    "\n",
    "def display_board(board):\n",
    "    clear_output()\n",
    "    \n",
    "    print('{}|{}|{}'.format(board[1],board[2],board[3]))\n",
    "    print('-----')\n",
    "    print('{}|{}|{}'.format(board[4],board[5],board[6]))\n",
    "    print('-----')\n",
    "    print('{}|{}|{}'.format(board[7],board[8],board[9]))\n"
   ]
  },
  {
   "cell_type": "markdown",
   "metadata": {},
   "source": [
    "Test of a sample board"
   ]
  },
  {
   "cell_type": "code",
   "execution_count": 3,
   "metadata": {},
   "outputs": [
    {
     "name": "stdout",
     "output_type": "stream",
     "text": [
      "X|O|X\n",
      "-----\n",
      "O|X|O\n",
      "-----\n",
      "X|O|X\n"
     ]
    }
   ],
   "source": [
    "\n",
    "test_board = ['#','X','O','X','O','X','O','X','O','X']\n",
    "display_board(test_board)"
   ]
  },
  {
   "cell_type": "markdown",
   "metadata": {},
   "source": [
    "Take inputs of X or O from a player"
   ]
  },
  {
   "cell_type": "code",
   "execution_count": 6,
   "metadata": {},
   "outputs": [],
   "source": [
    "def player_input():\n",
    "    while True:\n",
    "        entry=input('Enter O or X')\n",
    "        if entry=='X' or entry== 'O':\n",
    "            break\n",
    "    return entry"
   ]
  },
  {
   "cell_type": "markdown",
   "metadata": {},
   "source": [
    "Take player's inputs for 'X' or 'O' and position on the board"
   ]
  },
  {
   "cell_type": "code",
   "execution_count": 7,
   "metadata": {},
   "outputs": [
    {
     "name": "stdout",
     "output_type": "stream",
     "text": [
      "X|O|X\n",
      "-----\n",
      "O|X|O\n",
      "-----\n",
      "X|$|X\n"
     ]
    }
   ],
   "source": [
    "def place_marker(board, marker, position):\n",
    "    board[position]=marker\n",
    "    \n",
    "    \n",
    "place_marker(test_board,'$',8)\n",
    "display_board(test_board)"
   ]
  },
  {
   "cell_type": "markdown",
   "metadata": {},
   "source": [
    "Decide which player will go first"
   ]
  },
  {
   "cell_type": "markdown",
   "metadata": {},
   "source": [
    "import random\n",
    "\n",
    "def choose_first():\n",
    "    \n",
    "    Player1=random.randint(0,1)\n",
    "    if Player1==0:\n",
    "        return 'X'\n",
    "    else:\n",
    "        return 'O'\n",
    "    \n",
    "\n",
    "choose_first()\n",
    "    "
   ]
  },
  {
   "cell_type": "markdown",
   "metadata": {},
   "source": [
    "Check whether a position is available on the board"
   ]
  },
  {
   "cell_type": "code",
   "execution_count": 10,
   "metadata": {},
   "outputs": [
    {
     "data": {
      "text/plain": [
       "True"
      ]
     },
     "execution_count": 10,
     "metadata": {},
     "output_type": "execute_result"
    }
   ],
   "source": [
    "def space_check(board, position):\n",
    "    if board[position]!='X' and board[position]!='O' :\n",
    "        return True\n",
    "    else:\n",
    "        return False\n",
    "    \n",
    "space_check(test_board,8)"
   ]
  },
  {
   "cell_type": "markdown",
   "metadata": {},
   "source": [
    "Check if the board is empty or full"
   ]
  },
  {
   "cell_type": "code",
   "execution_count": 12,
   "metadata": {},
   "outputs": [
    {
     "data": {
      "text/plain": [
       "True"
      ]
     },
     "execution_count": 12,
     "metadata": {},
     "output_type": "execute_result"
    }
   ],
   "source": [
    "def full_board_check(board):\n",
    "    for i in range(len(board)):\n",
    "        \n",
    "        if board[i]==''and i!=0:\n",
    "            return False\n",
    "    \n",
    "    return True    \n",
    "        \n",
    "full_board_check(test_board)"
   ]
  },
  {
   "cell_type": "markdown",
   "metadata": {},
   "source": [
    "Take player's position and see if its free"
   ]
  },
  {
   "cell_type": "code",
   "execution_count": 13,
   "metadata": {},
   "outputs": [],
   "source": [
    "def player_choice(board):\n",
    "    entry= int(input('Please enter number between 1 to 9'))\n",
    "    while not space_check(board,entry):\n",
    "        print('This place is occupied')\n",
    "        entry = int(input('Please enter number between 1 to 9'))\n",
    "        \n",
    "    return entry"
   ]
  },
  {
   "cell_type": "markdown",
   "metadata": {},
   "source": [
    "Check if anyone has won"
   ]
  },
  {
   "cell_type": "code",
   "execution_count": 14,
   "metadata": {},
   "outputs": [],
   "source": [
    "def win_check(board, mark):\n",
    "    if (mark==board[1] and mark==board[2] and mark ==board[3]) or (mark==board[4] and mark==board[5] and mark ==board[6]) or (mark==board[7] and mark==board[8] and mark ==board[9]):\n",
    "        return True\n",
    "    elif (mark==board[1] and mark==board[4] and mark ==board[7]) or (mark==board[2] and mark==board[5] and mark ==board[8]) or (mark==board[3] and mark==board[6] and mark ==board[9]):\n",
    "        return True\n",
    "    elif (mark==board[1] and mark==board[5] and mark ==board[9]) or (mark==board[3] and mark==board[5] and mark ==board[7]):\n",
    "        return True\n",
    "    else:\n",
    "        return False"
   ]
  },
  {
   "cell_type": "markdown",
   "metadata": {},
   "source": [
    "Ask if the player wants to repeat"
   ]
  },
  {
   "cell_type": "code",
   "execution_count": 16,
   "metadata": {},
   "outputs": [],
   "source": [
    "def replay():\n",
    "    replay_entry=input('Enter yes if you want to play again')\n",
    "    if replay_entry.lower()=='yes':\n",
    "        return True\n",
    "    else:\n",
    "        return False"
   ]
  },
  {
   "cell_type": "markdown",
   "metadata": {},
   "source": [
    "Put it all together!"
   ]
  },
  {
   "cell_type": "code",
   "execution_count": 17,
   "metadata": {},
   "outputs": [
    {
     "name": "stdout",
     "output_type": "stream",
     "text": [
      "X|O|X\n",
      "-----\n",
      "O|X|O\n",
      "-----\n",
      "X||\n",
      "Game won\n",
      "Game over\n",
      "Enter yes if you want to play againno\n",
      "Have a nice day\n"
     ]
    }
   ],
   "source": [
    "print('Welcome to Tic Tac Toe!')\n",
    "\n",
    "\n",
    "def start():\n",
    "\n",
    "    new_board = ['','','','','','','','','','']\n",
    "    \n",
    "    if (choose_first())=='X':\n",
    "        player_1='X'\n",
    "        player_2='O'\n",
    "        print('Player_1 is X. Player_2 is O')\n",
    "    else:\n",
    "        player_1='O'\n",
    "        player_2='X'\n",
    "        print('Player_1 is O. Player_2 is X')\n",
    "        \n",
    "\n",
    "    while full_board_check(new_board)==False: \n",
    "        if win_check(new_board,player_1)==False and win_check(new_board,player_2)==False :\n",
    "                \n",
    "            place_1 = player_choice(new_board)\n",
    "            place_marker(new_board,player_1,place_1)\n",
    "            display_board(new_board)\n",
    "            \n",
    "            if full_board_check(new_board)==False: \n",
    "                if win_check(new_board,player_1)==False and win_check(new_board,player_2)==False :\n",
    "\n",
    "                    place_2 = player_choice(new_board)\n",
    "                    place_marker(new_board,player_2,place_2)\n",
    "                    display_board(new_board)\n",
    "                else:\n",
    "                    print('Game won')\n",
    "                    break\n",
    "            else:\n",
    "                if win_check(new_board,player_1)==False and win_check(new_board,player_2)==False :\n",
    "                    print('Game over')\n",
    "                    break\n",
    "                else:\n",
    "                    print('Game won')\n",
    "                    break\n",
    "        else:\n",
    "            print('Game won')\n",
    "            break\n",
    "    print('Game over')\n",
    "                    \n",
    "def tictaktoe():\n",
    "    start()\n",
    "    while replay():\n",
    "        start()\n",
    "    print('Have a nice day')\n",
    "    \n",
    "tictaktoe()\n",
    "             "
   ]
  },
  {
   "cell_type": "code",
   "execution_count": null,
   "metadata": {},
   "outputs": [],
   "source": []
  }
 ],
 "metadata": {
  "kernelspec": {
   "display_name": "Python 3",
   "language": "python",
   "name": "python3"
  },
  "language_info": {
   "codemirror_mode": {
    "name": "ipython",
    "version": 3
   },
   "file_extension": ".py",
   "mimetype": "text/x-python",
   "name": "python",
   "nbconvert_exporter": "python",
   "pygments_lexer": "ipython3",
   "version": "3.7.4"
  }
 },
 "nbformat": 4,
 "nbformat_minor": 2
}
