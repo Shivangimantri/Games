{
 "cells": [
  {
   "cell_type": "markdown",
   "metadata": {},
   "source": [
    "# Guessing Game Challenge\n",
    "\n",
    "\n",
    "This code  picks a random integer from 1 to 100, and has players guess the number. The game continues till the right number is guessed. It also tells you the number of turns you took to arrive at the right number.\n",
    "\n",
    "The rules are:\n",
    "\n",
    "If a player's guess is less than 1 or greater than 100, say \"OUT OF BOUNDS\"\n",
    "On a player's first turn, if their guess is\n",
    "within 10 of the number, return \"WARM!\"\n",
    "further than 10 away from the number, return \"COLD!\"\n",
    "On all subsequent turns, if a guess is\n",
    "closer to the number than the previous guess return \"WARMER!\"\n",
    "farther from the number than the previous guess, return \"COLDER!\"\n",
    "When the player's guess equals the number, tell them they've guessed correctly and how many guesses it took!"
   ]
  },
  {
   "cell_type": "code",
   "execution_count": 1,
   "metadata": {},
   "outputs": [
    {
     "name": "stdout",
     "output_type": "stream",
     "text": [
      "Welcome to the Guessing Challenge. Guess a number and we will give you hints so that you match with our randomly generated number.\n",
      "Enter your number-1\n",
      "Out of bounds! Guess between 0 to 100\n",
      "Enter your number50\n",
      "COLD! The difference between your guess and actual number is greater than 10!\n",
      "Enter your number40\n",
      "WARMER!\n",
      "Enter your number30\n",
      "COLDER!\n",
      "Enter your number35\n",
      "WARMER!\n",
      "Enter your number36\n",
      "WARMER!\n",
      "Enter your number37\n",
      "WARMER!\n",
      "Enter your number38\n",
      "You guessed it right!\n",
      "Number is 38\n",
      "You took 8 turns\n"
     ]
    }
   ],
   "source": [
    "from random import randint\n",
    "my_num=randint(1,101)\n",
    "\n",
    "print('Welcome to the Guessing Challenge. Guess a number and we will give you hints so that you match with our randomly generated number.')\n",
    "\n",
    "\n",
    "num_guess=[]\n",
    "check=True\n",
    "\n",
    "while True:\n",
    "    guess=int(input('Enter your number'))\n",
    "    num_guess.append(guess)\n",
    "    \n",
    "    if num_guess[-1]<=0 or num_guess[-1]>=100:\n",
    "        print('Out of bounds! Guess between 0 to 100')\n",
    "    \n",
    "    elif abs(num_guess[-1]-my_num)<=10:\n",
    "        print('WARM! The difference between your guess and actual number is less than 10!')\n",
    "        break\n",
    "        \n",
    "    elif abs(num_guess[-1]-my_num)>10:\n",
    "        print('COLD! The difference between your guess and actual number is greater than 10!')\n",
    "        break   \n",
    "        \n",
    "    else:\n",
    "        print('You guessed right!')\n",
    "        break\n",
    "        \n",
    "        \n",
    "while True:\n",
    "    guess2=int(input('Enter your number'))\n",
    "    num_guess.append(guess2)\n",
    "    \n",
    "    if abs(num_guess[-1]-my_num)==0:\n",
    "        print('You guessed it right!')\n",
    "        print('Number is {}'.format(num_guess[-1]))\n",
    "        print('You took {} turns'.format(len(num_guess)))\n",
    "        break\n",
    "        \n",
    "    elif abs(num_guess[-1]-my_num)<=abs((num_guess[-2]-my_num)):\n",
    "        print('WARMER!')\n",
    "        \n",
    "    elif abs(num_guess[-1]-my_num)>abs((num_guess[-2]-my_num)):\n",
    "        print('COLDER!')\n",
    "        \n",
    "    "
   ]
  },
  {
   "cell_type": "code",
   "execution_count": null,
   "metadata": {},
   "outputs": [],
   "source": []
  }
 ],
 "metadata": {
  "kernelspec": {
   "display_name": "Python 3",
   "language": "python",
   "name": "python3"
  },
  "language_info": {
   "codemirror_mode": {
    "name": "ipython",
    "version": 3
   },
   "file_extension": ".py",
   "mimetype": "text/x-python",
   "name": "python",
   "nbconvert_exporter": "python",
   "pygments_lexer": "ipython3",
   "version": "3.7.4"
  }
 },
 "nbformat": 4,
 "nbformat_minor": 2
}
